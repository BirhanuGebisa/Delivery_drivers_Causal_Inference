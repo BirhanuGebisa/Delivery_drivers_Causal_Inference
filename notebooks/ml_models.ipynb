{
 "cells": [
  {
   "cell_type": "markdown",
   "metadata": {},
   "source": [
    "### ML model"
   ]
  },
  {
   "cell_type": "markdown",
   "metadata": {},
   "source": [
    "##### Import Library"
   ]
  },
  {
   "cell_type": "code",
   "execution_count": 23,
   "metadata": {},
   "outputs": [],
   "source": [
    "from sklearn.ensemble import RandomForestClassifier\n",
    "from sklearn.model_selection import train_test_split\n",
    "from sklearn.preprocessing import MinMaxScaler\n",
    "from sklearn.ensemble import RandomForestClassifier\n",
    "from sklearn.preprocessing import LabelEncoder\n",
    "from sklearn.metrics import accuracy_score\n",
    "import pandas as pd\n",
    "import numpy as np"
   ]
  },
  {
   "cell_type": "code",
   "execution_count": 33,
   "metadata": {},
   "outputs": [
    {
     "data": {
      "text/html": [
       "<div>\n",
       "<style scoped>\n",
       "    .dataframe tbody tr th:only-of-type {\n",
       "        vertical-align: middle;\n",
       "    }\n",
       "\n",
       "    .dataframe tbody tr th {\n",
       "        vertical-align: top;\n",
       "    }\n",
       "\n",
       "    .dataframe thead th {\n",
       "        text-align: right;\n",
       "    }\n",
       "</style>\n",
       "<table border=\"1\" class=\"dataframe\">\n",
       "  <thead>\n",
       "    <tr style=\"text-align: right;\">\n",
       "      <th></th>\n",
       "      <th>id</th>\n",
       "      <th>driver_id</th>\n",
       "      <th>driver_action</th>\n",
       "      <th>Trip ID</th>\n",
       "      <th>Trip_Origin_lat</th>\n",
       "      <th>Trip_Origin_lng</th>\n",
       "      <th>Trip_Destination_lat</th>\n",
       "      <th>Trip_Destination_lng</th>\n",
       "      <th>distance</th>\n",
       "      <th>day_of_month</th>\n",
       "      <th>weekday</th>\n",
       "      <th>month_pick</th>\n",
       "      <th>hour_pick</th>\n",
       "      <th>duration</th>\n",
       "      <th>Holiday</th>\n",
       "    </tr>\n",
       "  </thead>\n",
       "  <tbody>\n",
       "    <tr>\n",
       "      <th>0</th>\n",
       "      <td>1</td>\n",
       "      <td>243828</td>\n",
       "      <td>accepted</td>\n",
       "      <td>392001</td>\n",
       "      <td>6.601042</td>\n",
       "      <td>3.276634</td>\n",
       "      <td>6.450107</td>\n",
       "      <td>3.391615</td>\n",
       "      <td>20.984319</td>\n",
       "      <td>1.0</td>\n",
       "      <td>Thursday</td>\n",
       "      <td>7.0</td>\n",
       "      <td>9.0</td>\n",
       "      <td>217.0</td>\n",
       "      <td>False</td>\n",
       "    </tr>\n",
       "    <tr>\n",
       "      <th>1</th>\n",
       "      <td>2</td>\n",
       "      <td>243588</td>\n",
       "      <td>rejected</td>\n",
       "      <td>392001</td>\n",
       "      <td>6.601042</td>\n",
       "      <td>3.276634</td>\n",
       "      <td>6.450107</td>\n",
       "      <td>3.391615</td>\n",
       "      <td>20.984319</td>\n",
       "      <td>1.0</td>\n",
       "      <td>Thursday</td>\n",
       "      <td>7.0</td>\n",
       "      <td>9.0</td>\n",
       "      <td>217.0</td>\n",
       "      <td>False</td>\n",
       "    </tr>\n",
       "    <tr>\n",
       "      <th>2</th>\n",
       "      <td>3</td>\n",
       "      <td>243830</td>\n",
       "      <td>rejected</td>\n",
       "      <td>392001</td>\n",
       "      <td>6.601042</td>\n",
       "      <td>3.276634</td>\n",
       "      <td>6.450107</td>\n",
       "      <td>3.391615</td>\n",
       "      <td>20.984319</td>\n",
       "      <td>1.0</td>\n",
       "      <td>Thursday</td>\n",
       "      <td>7.0</td>\n",
       "      <td>9.0</td>\n",
       "      <td>217.0</td>\n",
       "      <td>False</td>\n",
       "    </tr>\n",
       "    <tr>\n",
       "      <th>3</th>\n",
       "      <td>4</td>\n",
       "      <td>243539</td>\n",
       "      <td>rejected</td>\n",
       "      <td>392001</td>\n",
       "      <td>6.601042</td>\n",
       "      <td>3.276634</td>\n",
       "      <td>6.450107</td>\n",
       "      <td>3.391615</td>\n",
       "      <td>20.984319</td>\n",
       "      <td>1.0</td>\n",
       "      <td>Thursday</td>\n",
       "      <td>7.0</td>\n",
       "      <td>9.0</td>\n",
       "      <td>217.0</td>\n",
       "      <td>False</td>\n",
       "    </tr>\n",
       "    <tr>\n",
       "      <th>4</th>\n",
       "      <td>5</td>\n",
       "      <td>171653</td>\n",
       "      <td>rejected</td>\n",
       "      <td>392001</td>\n",
       "      <td>6.601042</td>\n",
       "      <td>3.276634</td>\n",
       "      <td>6.450107</td>\n",
       "      <td>3.391615</td>\n",
       "      <td>20.984319</td>\n",
       "      <td>1.0</td>\n",
       "      <td>Thursday</td>\n",
       "      <td>7.0</td>\n",
       "      <td>9.0</td>\n",
       "      <td>217.0</td>\n",
       "      <td>False</td>\n",
       "    </tr>\n",
       "  </tbody>\n",
       "</table>\n",
       "</div>"
      ],
      "text/plain": [
       "   id  driver_id driver_action  Trip ID  Trip_Origin_lat  Trip_Origin_lng  \\\n",
       "0   1     243828      accepted   392001         6.601042         3.276634   \n",
       "1   2     243588      rejected   392001         6.601042         3.276634   \n",
       "2   3     243830      rejected   392001         6.601042         3.276634   \n",
       "3   4     243539      rejected   392001         6.601042         3.276634   \n",
       "4   5     171653      rejected   392001         6.601042         3.276634   \n",
       "\n",
       "   Trip_Destination_lat  Trip_Destination_lng   distance  day_of_month  \\\n",
       "0              6.450107              3.391615  20.984319           1.0   \n",
       "1              6.450107              3.391615  20.984319           1.0   \n",
       "2              6.450107              3.391615  20.984319           1.0   \n",
       "3              6.450107              3.391615  20.984319           1.0   \n",
       "4              6.450107              3.391615  20.984319           1.0   \n",
       "\n",
       "    weekday  month_pick  hour_pick  duration  Holiday  \n",
       "0  Thursday         7.0        9.0     217.0    False  \n",
       "1  Thursday         7.0        9.0     217.0    False  \n",
       "2  Thursday         7.0        9.0     217.0    False  \n",
       "3  Thursday         7.0        9.0     217.0    False  \n",
       "4  Thursday         7.0        9.0     217.0    False  "
      ]
     },
     "execution_count": 33,
     "metadata": {},
     "output_type": "execute_result"
    }
   ],
   "source": [
    "selected_feat_df = pd.read_csv('../data/final_data.csv')\n",
    "selected_feat_df.dropna(inplace = True)\n",
    "selected_feat_df.head(5)"
   ]
  },
  {
   "cell_type": "code",
   "execution_count": null,
   "metadata": {},
   "outputs": [],
   "source": [
    "selected_feat_df.isnull()."
   ]
  },
  {
   "cell_type": "code",
   "execution_count": 34,
   "metadata": {},
   "outputs": [
    {
     "name": "stdout",
     "output_type": "stream",
     "text": [
      "['driver_action', 'weekday', 'Holiday']\n"
     ]
    }
   ],
   "source": [
    "# identfying categorical values\n",
    "non_numeric_columns = list(selected_feat_df.select_dtypes(exclude=[np.number]).columns)\n",
    "print(non_numeric_columns)"
   ]
  },
  {
   "cell_type": "code",
   "execution_count": 35,
   "metadata": {},
   "outputs": [
    {
     "data": {
      "text/html": [
       "<div>\n",
       "<style scoped>\n",
       "    .dataframe tbody tr th:only-of-type {\n",
       "        vertical-align: middle;\n",
       "    }\n",
       "\n",
       "    .dataframe tbody tr th {\n",
       "        vertical-align: top;\n",
       "    }\n",
       "\n",
       "    .dataframe thead th {\n",
       "        text-align: right;\n",
       "    }\n",
       "</style>\n",
       "<table border=\"1\" class=\"dataframe\">\n",
       "  <thead>\n",
       "    <tr style=\"text-align: right;\">\n",
       "      <th></th>\n",
       "      <th>id</th>\n",
       "      <th>driver_id</th>\n",
       "      <th>driver_action</th>\n",
       "      <th>Trip ID</th>\n",
       "      <th>Trip_Origin_lat</th>\n",
       "      <th>Trip_Origin_lng</th>\n",
       "      <th>Trip_Destination_lat</th>\n",
       "      <th>Trip_Destination_lng</th>\n",
       "      <th>distance</th>\n",
       "      <th>day_of_month</th>\n",
       "      <th>weekday</th>\n",
       "      <th>month_pick</th>\n",
       "      <th>hour_pick</th>\n",
       "      <th>duration</th>\n",
       "      <th>Holiday</th>\n",
       "    </tr>\n",
       "  </thead>\n",
       "  <tbody>\n",
       "    <tr>\n",
       "      <th>0</th>\n",
       "      <td>1</td>\n",
       "      <td>243828</td>\n",
       "      <td>0</td>\n",
       "      <td>392001</td>\n",
       "      <td>6.601042</td>\n",
       "      <td>3.276634</td>\n",
       "      <td>6.450107</td>\n",
       "      <td>3.391615</td>\n",
       "      <td>20.984319</td>\n",
       "      <td>1.0</td>\n",
       "      <td>4</td>\n",
       "      <td>7.0</td>\n",
       "      <td>9.0</td>\n",
       "      <td>217.0</td>\n",
       "      <td>0</td>\n",
       "    </tr>\n",
       "    <tr>\n",
       "      <th>1</th>\n",
       "      <td>2</td>\n",
       "      <td>243588</td>\n",
       "      <td>1</td>\n",
       "      <td>392001</td>\n",
       "      <td>6.601042</td>\n",
       "      <td>3.276634</td>\n",
       "      <td>6.450107</td>\n",
       "      <td>3.391615</td>\n",
       "      <td>20.984319</td>\n",
       "      <td>1.0</td>\n",
       "      <td>4</td>\n",
       "      <td>7.0</td>\n",
       "      <td>9.0</td>\n",
       "      <td>217.0</td>\n",
       "      <td>0</td>\n",
       "    </tr>\n",
       "    <tr>\n",
       "      <th>2</th>\n",
       "      <td>3</td>\n",
       "      <td>243830</td>\n",
       "      <td>1</td>\n",
       "      <td>392001</td>\n",
       "      <td>6.601042</td>\n",
       "      <td>3.276634</td>\n",
       "      <td>6.450107</td>\n",
       "      <td>3.391615</td>\n",
       "      <td>20.984319</td>\n",
       "      <td>1.0</td>\n",
       "      <td>4</td>\n",
       "      <td>7.0</td>\n",
       "      <td>9.0</td>\n",
       "      <td>217.0</td>\n",
       "      <td>0</td>\n",
       "    </tr>\n",
       "    <tr>\n",
       "      <th>3</th>\n",
       "      <td>4</td>\n",
       "      <td>243539</td>\n",
       "      <td>1</td>\n",
       "      <td>392001</td>\n",
       "      <td>6.601042</td>\n",
       "      <td>3.276634</td>\n",
       "      <td>6.450107</td>\n",
       "      <td>3.391615</td>\n",
       "      <td>20.984319</td>\n",
       "      <td>1.0</td>\n",
       "      <td>4</td>\n",
       "      <td>7.0</td>\n",
       "      <td>9.0</td>\n",
       "      <td>217.0</td>\n",
       "      <td>0</td>\n",
       "    </tr>\n",
       "    <tr>\n",
       "      <th>4</th>\n",
       "      <td>5</td>\n",
       "      <td>171653</td>\n",
       "      <td>1</td>\n",
       "      <td>392001</td>\n",
       "      <td>6.601042</td>\n",
       "      <td>3.276634</td>\n",
       "      <td>6.450107</td>\n",
       "      <td>3.391615</td>\n",
       "      <td>20.984319</td>\n",
       "      <td>1.0</td>\n",
       "      <td>4</td>\n",
       "      <td>7.0</td>\n",
       "      <td>9.0</td>\n",
       "      <td>217.0</td>\n",
       "      <td>0</td>\n",
       "    </tr>\n",
       "  </tbody>\n",
       "</table>\n",
       "</div>"
      ],
      "text/plain": [
       "   id  driver_id  driver_action  Trip ID  Trip_Origin_lat  Trip_Origin_lng  \\\n",
       "0   1     243828              0   392001         6.601042         3.276634   \n",
       "1   2     243588              1   392001         6.601042         3.276634   \n",
       "2   3     243830              1   392001         6.601042         3.276634   \n",
       "3   4     243539              1   392001         6.601042         3.276634   \n",
       "4   5     171653              1   392001         6.601042         3.276634   \n",
       "\n",
       "   Trip_Destination_lat  Trip_Destination_lng   distance  day_of_month  \\\n",
       "0              6.450107              3.391615  20.984319           1.0   \n",
       "1              6.450107              3.391615  20.984319           1.0   \n",
       "2              6.450107              3.391615  20.984319           1.0   \n",
       "3              6.450107              3.391615  20.984319           1.0   \n",
       "4              6.450107              3.391615  20.984319           1.0   \n",
       "\n",
       "   weekday  month_pick  hour_pick  duration  Holiday  \n",
       "0        4         7.0        9.0     217.0        0  \n",
       "1        4         7.0        9.0     217.0        0  \n",
       "2        4         7.0        9.0     217.0        0  \n",
       "3        4         7.0        9.0     217.0        0  \n",
       "4        4         7.0        9.0     217.0        0  "
      ]
     },
     "execution_count": 35,
     "metadata": {},
     "output_type": "execute_result"
    }
   ],
   "source": [
    "# Encoder \n",
    "le = LabelEncoder()\n",
    "for col in non_numeric_columns:\n",
    "    selected_feat_df[col] = le.fit_transform(selected_feat_df[col])\n",
    "selected_feat_df.head(5)"
   ]
  },
  {
   "cell_type": "code",
   "execution_count": 36,
   "metadata": {},
   "outputs": [],
   "source": [
    "X_all = selected_feat_df.drop([\"driver_action\"], axis=1)\n",
    "y_all = selected_feat_df[\"driver_action\"]"
   ]
  },
  {
   "cell_type": "code",
   "execution_count": 37,
   "metadata": {},
   "outputs": [
    {
     "ename": "TypeError",
     "evalue": "Singleton array array(<bound method NDFrame.head of               id  driver_id  Trip ID  Trip_Origin_lat  Trip_Origin_lng  \\\n0              1     243828   392001         6.601042         3.276634   \n1              2     243588   392001         6.601042         3.276634   \n2              3     243830   392001         6.601042         3.276634   \n3              4     243539   392001         6.601042         3.276634   \n4              5     171653   392001         6.601042         3.276634   \n...          ...        ...      ...              ...              ...   \n1557735  1557736     243774   517948         6.443374         3.552312   \n1557736  1557737     245447   517948         6.443374         3.552312   \n1557737  1557738     239866   517948         6.443374         3.552312   \n1557738  1557739     243774   517948         6.443374         3.552312   \n1557739  1557740     244170   517948         6.443374         3.552312   \n\n         Trip_Destination_lat  Trip_Destination_lng   distance  day_of_month  \\\n0                    6.450107              3.391615  20.984319           1.0   \n1                    6.450107              3.391615  20.984319           1.0   \n2                    6.450107              3.391615  20.984319           1.0   \n3                    6.450107              3.391615  20.984319           1.0   \n4                    6.450107              3.391615  20.984319           1.0   \n...                       ...                   ...        ...           ...   \n1557735              6.500608              3.598194   8.112927          10.0   \n1557736              6.500608              3.598194   8.112927          10.0   \n1557737              6.500608              3.598194   8.112927          10.0   \n1557738              6.500608              3.598194   8.112927          10.0   \n1557739              6.500608              3.598194   8.112927          10.0   \n\n         weekday  month_pick  hour_pick  duration  Holiday  \n0              4         7.0        9.0     217.0        0  \n1              4         7.0        9.0     217.0        0  \n2              4         7.0        9.0     217.0        0  \n3              4         7.0        9.0     217.0        0  \n4              4         7.0        9.0     217.0        0  \n...          ...         ...        ...       ...      ...  \n1557735        0         9.0       11.0    6167.0        0  \n1557736        0         9.0       11.0    6167.0        0  \n1557737        0         9.0       11.0    6167.0        0  \n1557738        0         9.0       11.0    6167.0        0  \n1557739        0         9.0       11.0    6167.0        0  \n\n[1555718 rows x 14 columns]>, dtype=object) cannot be considered a valid collection.",
     "output_type": "error",
     "traceback": [
      "\u001b[0;31m---------------------------------------------------------------------------\u001b[0m",
      "\u001b[0;31mTypeError\u001b[0m                                 Traceback (most recent call last)",
      "Cell \u001b[0;32mIn [37], line 3\u001b[0m\n\u001b[1;32m      1\u001b[0m \u001b[39m# Train test split for the feature extracted dataframe\u001b[39;00m\n\u001b[0;32m----> 3\u001b[0m X_train_all, X_test_all, y_train_all, y_test_all \u001b[39m=\u001b[39m train_test_split(\n\u001b[1;32m      4\u001b[0m     X_all\u001b[39m.\u001b[39;49mhead, y_all,test_size\u001b[39m=\u001b[39;49m\u001b[39m0.2\u001b[39;49m, random_state\u001b[39m=\u001b[39;49m\u001b[39m10\u001b[39;49m\n\u001b[1;32m      5\u001b[0m )\n",
      "File \u001b[0;32m~/anaconda3/envs/venv/lib/python3.8/site-packages/sklearn/model_selection/_split.py:2172\u001b[0m, in \u001b[0;36mtrain_test_split\u001b[0;34m(test_size, train_size, random_state, shuffle, stratify, *arrays)\u001b[0m\n\u001b[1;32m   2169\u001b[0m \u001b[39mif\u001b[39;00m n_arrays \u001b[39m==\u001b[39m \u001b[39m0\u001b[39m:\n\u001b[1;32m   2170\u001b[0m     \u001b[39mraise\u001b[39;00m \u001b[39mValueError\u001b[39;00m(\u001b[39m\"\u001b[39m\u001b[39mAt least one array required as input\u001b[39m\u001b[39m\"\u001b[39m)\n\u001b[0;32m-> 2172\u001b[0m arrays \u001b[39m=\u001b[39m indexable(\u001b[39m*\u001b[39;49marrays)\n\u001b[1;32m   2174\u001b[0m n_samples \u001b[39m=\u001b[39m _num_samples(arrays[\u001b[39m0\u001b[39m])\n\u001b[1;32m   2175\u001b[0m n_train, n_test \u001b[39m=\u001b[39m _validate_shuffle_split(n_samples, test_size, train_size,\n\u001b[1;32m   2176\u001b[0m                                           default_test_size\u001b[39m=\u001b[39m\u001b[39m0.25\u001b[39m)\n",
      "File \u001b[0;32m~/anaconda3/envs/venv/lib/python3.8/site-packages/sklearn/utils/validation.py:356\u001b[0m, in \u001b[0;36mindexable\u001b[0;34m(*iterables)\u001b[0m\n\u001b[1;32m    344\u001b[0m \u001b[39m\"\"\"Make arrays indexable for cross-validation.\u001b[39;00m\n\u001b[1;32m    345\u001b[0m \n\u001b[1;32m    346\u001b[0m \u001b[39mChecks consistent length, passes through None, and ensures that everything\u001b[39;00m\n\u001b[0;32m   (...)\u001b[0m\n\u001b[1;32m    353\u001b[0m \u001b[39m    List of objects to ensure sliceability.\u001b[39;00m\n\u001b[1;32m    354\u001b[0m \u001b[39m\"\"\"\u001b[39;00m\n\u001b[1;32m    355\u001b[0m result \u001b[39m=\u001b[39m [_make_indexable(X) \u001b[39mfor\u001b[39;00m X \u001b[39min\u001b[39;00m iterables]\n\u001b[0;32m--> 356\u001b[0m check_consistent_length(\u001b[39m*\u001b[39;49mresult)\n\u001b[1;32m    357\u001b[0m \u001b[39mreturn\u001b[39;00m result\n",
      "File \u001b[0;32m~/anaconda3/envs/venv/lib/python3.8/site-packages/sklearn/utils/validation.py:316\u001b[0m, in \u001b[0;36mcheck_consistent_length\u001b[0;34m(*arrays)\u001b[0m\n\u001b[1;32m    305\u001b[0m \u001b[39mdef\u001b[39;00m \u001b[39mcheck_consistent_length\u001b[39m(\u001b[39m*\u001b[39marrays):\n\u001b[1;32m    306\u001b[0m     \u001b[39m\"\"\"Check that all arrays have consistent first dimensions.\u001b[39;00m\n\u001b[1;32m    307\u001b[0m \n\u001b[1;32m    308\u001b[0m \u001b[39m    Checks whether all objects in arrays have the same shape or length.\u001b[39;00m\n\u001b[0;32m   (...)\u001b[0m\n\u001b[1;32m    313\u001b[0m \u001b[39m        Objects that will be checked for consistent length.\u001b[39;00m\n\u001b[1;32m    314\u001b[0m \u001b[39m    \"\"\"\u001b[39;00m\n\u001b[0;32m--> 316\u001b[0m     lengths \u001b[39m=\u001b[39m [_num_samples(X) \u001b[39mfor\u001b[39;00m X \u001b[39min\u001b[39;00m arrays \u001b[39mif\u001b[39;00m X \u001b[39mis\u001b[39;00m \u001b[39mnot\u001b[39;00m \u001b[39mNone\u001b[39;00m]\n\u001b[1;32m    317\u001b[0m     uniques \u001b[39m=\u001b[39m np\u001b[39m.\u001b[39munique(lengths)\n\u001b[1;32m    318\u001b[0m     \u001b[39mif\u001b[39;00m \u001b[39mlen\u001b[39m(uniques) \u001b[39m>\u001b[39m \u001b[39m1\u001b[39m:\n",
      "File \u001b[0;32m~/anaconda3/envs/venv/lib/python3.8/site-packages/sklearn/utils/validation.py:316\u001b[0m, in \u001b[0;36m<listcomp>\u001b[0;34m(.0)\u001b[0m\n\u001b[1;32m    305\u001b[0m \u001b[39mdef\u001b[39;00m \u001b[39mcheck_consistent_length\u001b[39m(\u001b[39m*\u001b[39marrays):\n\u001b[1;32m    306\u001b[0m     \u001b[39m\"\"\"Check that all arrays have consistent first dimensions.\u001b[39;00m\n\u001b[1;32m    307\u001b[0m \n\u001b[1;32m    308\u001b[0m \u001b[39m    Checks whether all objects in arrays have the same shape or length.\u001b[39;00m\n\u001b[0;32m   (...)\u001b[0m\n\u001b[1;32m    313\u001b[0m \u001b[39m        Objects that will be checked for consistent length.\u001b[39;00m\n\u001b[1;32m    314\u001b[0m \u001b[39m    \"\"\"\u001b[39;00m\n\u001b[0;32m--> 316\u001b[0m     lengths \u001b[39m=\u001b[39m [_num_samples(X) \u001b[39mfor\u001b[39;00m X \u001b[39min\u001b[39;00m arrays \u001b[39mif\u001b[39;00m X \u001b[39mis\u001b[39;00m \u001b[39mnot\u001b[39;00m \u001b[39mNone\u001b[39;00m]\n\u001b[1;32m    317\u001b[0m     uniques \u001b[39m=\u001b[39m np\u001b[39m.\u001b[39munique(lengths)\n\u001b[1;32m    318\u001b[0m     \u001b[39mif\u001b[39;00m \u001b[39mlen\u001b[39m(uniques) \u001b[39m>\u001b[39m \u001b[39m1\u001b[39m:\n",
      "File \u001b[0;32m~/anaconda3/envs/venv/lib/python3.8/site-packages/sklearn/utils/validation.py:259\u001b[0m, in \u001b[0;36m_num_samples\u001b[0;34m(x)\u001b[0m\n\u001b[1;32m    257\u001b[0m \u001b[39mif\u001b[39;00m \u001b[39mhasattr\u001b[39m(x, \u001b[39m'\u001b[39m\u001b[39mshape\u001b[39m\u001b[39m'\u001b[39m) \u001b[39mand\u001b[39;00m x\u001b[39m.\u001b[39mshape \u001b[39mis\u001b[39;00m \u001b[39mnot\u001b[39;00m \u001b[39mNone\u001b[39;00m:\n\u001b[1;32m    258\u001b[0m     \u001b[39mif\u001b[39;00m \u001b[39mlen\u001b[39m(x\u001b[39m.\u001b[39mshape) \u001b[39m==\u001b[39m \u001b[39m0\u001b[39m:\n\u001b[0;32m--> 259\u001b[0m         \u001b[39mraise\u001b[39;00m \u001b[39mTypeError\u001b[39;00m(\u001b[39m\"\u001b[39m\u001b[39mSingleton array \u001b[39m\u001b[39m%r\u001b[39;00m\u001b[39m cannot be considered\u001b[39m\u001b[39m\"\u001b[39m\n\u001b[1;32m    260\u001b[0m                         \u001b[39m\"\u001b[39m\u001b[39m a valid collection.\u001b[39m\u001b[39m\"\u001b[39m \u001b[39m%\u001b[39m x)\n\u001b[1;32m    261\u001b[0m     \u001b[39m# Check that shape is returning an integer or default to len\u001b[39;00m\n\u001b[1;32m    262\u001b[0m     \u001b[39m# Dask dataframes may not return numeric shape[0] value\u001b[39;00m\n\u001b[1;32m    263\u001b[0m     \u001b[39mif\u001b[39;00m \u001b[39misinstance\u001b[39m(x\u001b[39m.\u001b[39mshape[\u001b[39m0\u001b[39m], numbers\u001b[39m.\u001b[39mIntegral):\n",
      "\u001b[0;31mTypeError\u001b[0m: Singleton array array(<bound method NDFrame.head of               id  driver_id  Trip ID  Trip_Origin_lat  Trip_Origin_lng  \\\n0              1     243828   392001         6.601042         3.276634   \n1              2     243588   392001         6.601042         3.276634   \n2              3     243830   392001         6.601042         3.276634   \n3              4     243539   392001         6.601042         3.276634   \n4              5     171653   392001         6.601042         3.276634   \n...          ...        ...      ...              ...              ...   \n1557735  1557736     243774   517948         6.443374         3.552312   \n1557736  1557737     245447   517948         6.443374         3.552312   \n1557737  1557738     239866   517948         6.443374         3.552312   \n1557738  1557739     243774   517948         6.443374         3.552312   \n1557739  1557740     244170   517948         6.443374         3.552312   \n\n         Trip_Destination_lat  Trip_Destination_lng   distance  day_of_month  \\\n0                    6.450107              3.391615  20.984319           1.0   \n1                    6.450107              3.391615  20.984319           1.0   \n2                    6.450107              3.391615  20.984319           1.0   \n3                    6.450107              3.391615  20.984319           1.0   \n4                    6.450107              3.391615  20.984319           1.0   \n...                       ...                   ...        ...           ...   \n1557735              6.500608              3.598194   8.112927          10.0   \n1557736              6.500608              3.598194   8.112927          10.0   \n1557737              6.500608              3.598194   8.112927          10.0   \n1557738              6.500608              3.598194   8.112927          10.0   \n1557739              6.500608              3.598194   8.112927          10.0   \n\n         weekday  month_pick  hour_pick  duration  Holiday  \n0              4         7.0        9.0     217.0        0  \n1              4         7.0        9.0     217.0        0  \n2              4         7.0        9.0     217.0        0  \n3              4         7.0        9.0     217.0        0  \n4              4         7.0        9.0     217.0        0  \n...          ...         ...        ...       ...      ...  \n1557735        0         9.0       11.0    6167.0        0  \n1557736        0         9.0       11.0    6167.0        0  \n1557737        0         9.0       11.0    6167.0        0  \n1557738        0         9.0       11.0    6167.0        0  \n1557739        0         9.0       11.0    6167.0        0  \n\n[1555718 rows x 14 columns]>, dtype=object) cannot be considered a valid collection."
     ]
    }
   ],
   "source": [
    "# Train test split for the feature extracted dataframe\n",
    "\n",
    "X_train_all, X_test_all, y_train_all, y_test_all = train_test_split(\n",
    "    X_all.head, y_all,test_size=0.2, random_state=10\n",
    ")"
   ]
  },
  {
   "cell_type": "code",
   "execution_count": 38,
   "metadata": {},
   "outputs": [],
   "source": [
    "X_train_feat, X_test_feat, y_train_feat, y_test_feat = train_test_split(\n",
    "    y_selected_feat_df, x_selected_feat_df,test_size=0.2, random_state=10\n",
    ")"
   ]
  },
  {
   "cell_type": "code",
   "execution_count": 39,
   "metadata": {},
   "outputs": [
    {
     "ename": "ValueError",
     "evalue": "Input contains NaN, infinity or a value too large for dtype('float32').",
     "output_type": "error",
     "traceback": [
      "\u001b[0;31m---------------------------------------------------------------------------\u001b[0m",
      "\u001b[0;31mValueError\u001b[0m                                Traceback (most recent call last)",
      "Cell \u001b[0;32mIn [39], line 2\u001b[0m\n\u001b[1;32m      1\u001b[0m classifier_all \u001b[39m=\u001b[39m RandomForestClassifier(n_estimators\u001b[39m=\u001b[39m\u001b[39m100\u001b[39m)\n\u001b[0;32m----> 2\u001b[0m classifier_all\u001b[39m.\u001b[39;49mfit(X_train_all, y_train_all)\n",
      "File \u001b[0;32m~/anaconda3/envs/venv/lib/python3.8/site-packages/sklearn/ensemble/_forest.py:304\u001b[0m, in \u001b[0;36mBaseForest.fit\u001b[0;34m(self, X, y, sample_weight)\u001b[0m\n\u001b[1;32m    300\u001b[0m \u001b[39mif\u001b[39;00m issparse(y):\n\u001b[1;32m    301\u001b[0m     \u001b[39mraise\u001b[39;00m \u001b[39mValueError\u001b[39;00m(\n\u001b[1;32m    302\u001b[0m         \u001b[39m\"\u001b[39m\u001b[39msparse multilabel-indicator for y is not supported.\u001b[39m\u001b[39m\"\u001b[39m\n\u001b[1;32m    303\u001b[0m     )\n\u001b[0;32m--> 304\u001b[0m X, y \u001b[39m=\u001b[39m \u001b[39mself\u001b[39;49m\u001b[39m.\u001b[39;49m_validate_data(X, y, multi_output\u001b[39m=\u001b[39;49m\u001b[39mTrue\u001b[39;49;00m,\n\u001b[1;32m    305\u001b[0m                            accept_sparse\u001b[39m=\u001b[39;49m\u001b[39m\"\u001b[39;49m\u001b[39mcsc\u001b[39;49m\u001b[39m\"\u001b[39;49m, dtype\u001b[39m=\u001b[39;49mDTYPE)\n\u001b[1;32m    306\u001b[0m \u001b[39mif\u001b[39;00m sample_weight \u001b[39mis\u001b[39;00m \u001b[39mnot\u001b[39;00m \u001b[39mNone\u001b[39;00m:\n\u001b[1;32m    307\u001b[0m     sample_weight \u001b[39m=\u001b[39m _check_sample_weight(sample_weight, X)\n",
      "File \u001b[0;32m~/anaconda3/envs/venv/lib/python3.8/site-packages/sklearn/base.py:433\u001b[0m, in \u001b[0;36mBaseEstimator._validate_data\u001b[0;34m(self, X, y, reset, validate_separately, **check_params)\u001b[0m\n\u001b[1;32m    431\u001b[0m         y \u001b[39m=\u001b[39m check_array(y, \u001b[39m*\u001b[39m\u001b[39m*\u001b[39mcheck_y_params)\n\u001b[1;32m    432\u001b[0m     \u001b[39melse\u001b[39;00m:\n\u001b[0;32m--> 433\u001b[0m         X, y \u001b[39m=\u001b[39m check_X_y(X, y, \u001b[39m*\u001b[39;49m\u001b[39m*\u001b[39;49mcheck_params)\n\u001b[1;32m    434\u001b[0m     out \u001b[39m=\u001b[39m X, y\n\u001b[1;32m    436\u001b[0m \u001b[39mif\u001b[39;00m check_params\u001b[39m.\u001b[39mget(\u001b[39m'\u001b[39m\u001b[39mensure_2d\u001b[39m\u001b[39m'\u001b[39m, \u001b[39mTrue\u001b[39;00m):\n",
      "File \u001b[0;32m~/anaconda3/envs/venv/lib/python3.8/site-packages/sklearn/utils/validation.py:63\u001b[0m, in \u001b[0;36m_deprecate_positional_args.<locals>._inner_deprecate_positional_args.<locals>.inner_f\u001b[0;34m(*args, **kwargs)\u001b[0m\n\u001b[1;32m     61\u001b[0m extra_args \u001b[39m=\u001b[39m \u001b[39mlen\u001b[39m(args) \u001b[39m-\u001b[39m \u001b[39mlen\u001b[39m(all_args)\n\u001b[1;32m     62\u001b[0m \u001b[39mif\u001b[39;00m extra_args \u001b[39m<\u001b[39m\u001b[39m=\u001b[39m \u001b[39m0\u001b[39m:\n\u001b[0;32m---> 63\u001b[0m     \u001b[39mreturn\u001b[39;00m f(\u001b[39m*\u001b[39;49margs, \u001b[39m*\u001b[39;49m\u001b[39m*\u001b[39;49mkwargs)\n\u001b[1;32m     65\u001b[0m \u001b[39m# extra_args > 0\u001b[39;00m\n\u001b[1;32m     66\u001b[0m args_msg \u001b[39m=\u001b[39m [\u001b[39m'\u001b[39m\u001b[39m{}\u001b[39;00m\u001b[39m=\u001b[39m\u001b[39m{}\u001b[39;00m\u001b[39m'\u001b[39m\u001b[39m.\u001b[39mformat(name, arg)\n\u001b[1;32m     67\u001b[0m             \u001b[39mfor\u001b[39;00m name, arg \u001b[39min\u001b[39;00m \u001b[39mzip\u001b[39m(kwonly_args[:extra_args],\n\u001b[1;32m     68\u001b[0m                                  args[\u001b[39m-\u001b[39mextra_args:])]\n",
      "File \u001b[0;32m~/anaconda3/envs/venv/lib/python3.8/site-packages/sklearn/utils/validation.py:871\u001b[0m, in \u001b[0;36mcheck_X_y\u001b[0;34m(X, y, accept_sparse, accept_large_sparse, dtype, order, copy, force_all_finite, ensure_2d, allow_nd, multi_output, ensure_min_samples, ensure_min_features, y_numeric, estimator)\u001b[0m\n\u001b[1;32m    868\u001b[0m \u001b[39mif\u001b[39;00m y \u001b[39mis\u001b[39;00m \u001b[39mNone\u001b[39;00m:\n\u001b[1;32m    869\u001b[0m     \u001b[39mraise\u001b[39;00m \u001b[39mValueError\u001b[39;00m(\u001b[39m\"\u001b[39m\u001b[39my cannot be None\u001b[39m\u001b[39m\"\u001b[39m)\n\u001b[0;32m--> 871\u001b[0m X \u001b[39m=\u001b[39m check_array(X, accept_sparse\u001b[39m=\u001b[39;49maccept_sparse,\n\u001b[1;32m    872\u001b[0m                 accept_large_sparse\u001b[39m=\u001b[39;49maccept_large_sparse,\n\u001b[1;32m    873\u001b[0m                 dtype\u001b[39m=\u001b[39;49mdtype, order\u001b[39m=\u001b[39;49morder, copy\u001b[39m=\u001b[39;49mcopy,\n\u001b[1;32m    874\u001b[0m                 force_all_finite\u001b[39m=\u001b[39;49mforce_all_finite,\n\u001b[1;32m    875\u001b[0m                 ensure_2d\u001b[39m=\u001b[39;49mensure_2d, allow_nd\u001b[39m=\u001b[39;49mallow_nd,\n\u001b[1;32m    876\u001b[0m                 ensure_min_samples\u001b[39m=\u001b[39;49mensure_min_samples,\n\u001b[1;32m    877\u001b[0m                 ensure_min_features\u001b[39m=\u001b[39;49mensure_min_features,\n\u001b[1;32m    878\u001b[0m                 estimator\u001b[39m=\u001b[39;49mestimator)\n\u001b[1;32m    879\u001b[0m \u001b[39mif\u001b[39;00m multi_output:\n\u001b[1;32m    880\u001b[0m     y \u001b[39m=\u001b[39m check_array(y, accept_sparse\u001b[39m=\u001b[39m\u001b[39m'\u001b[39m\u001b[39mcsr\u001b[39m\u001b[39m'\u001b[39m, force_all_finite\u001b[39m=\u001b[39m\u001b[39mTrue\u001b[39;00m,\n\u001b[1;32m    881\u001b[0m                     ensure_2d\u001b[39m=\u001b[39m\u001b[39mFalse\u001b[39;00m, dtype\u001b[39m=\u001b[39m\u001b[39mNone\u001b[39;00m)\n",
      "File \u001b[0;32m~/anaconda3/envs/venv/lib/python3.8/site-packages/sklearn/utils/validation.py:63\u001b[0m, in \u001b[0;36m_deprecate_positional_args.<locals>._inner_deprecate_positional_args.<locals>.inner_f\u001b[0;34m(*args, **kwargs)\u001b[0m\n\u001b[1;32m     61\u001b[0m extra_args \u001b[39m=\u001b[39m \u001b[39mlen\u001b[39m(args) \u001b[39m-\u001b[39m \u001b[39mlen\u001b[39m(all_args)\n\u001b[1;32m     62\u001b[0m \u001b[39mif\u001b[39;00m extra_args \u001b[39m<\u001b[39m\u001b[39m=\u001b[39m \u001b[39m0\u001b[39m:\n\u001b[0;32m---> 63\u001b[0m     \u001b[39mreturn\u001b[39;00m f(\u001b[39m*\u001b[39;49margs, \u001b[39m*\u001b[39;49m\u001b[39m*\u001b[39;49mkwargs)\n\u001b[1;32m     65\u001b[0m \u001b[39m# extra_args > 0\u001b[39;00m\n\u001b[1;32m     66\u001b[0m args_msg \u001b[39m=\u001b[39m [\u001b[39m'\u001b[39m\u001b[39m{}\u001b[39;00m\u001b[39m=\u001b[39m\u001b[39m{}\u001b[39;00m\u001b[39m'\u001b[39m\u001b[39m.\u001b[39mformat(name, arg)\n\u001b[1;32m     67\u001b[0m             \u001b[39mfor\u001b[39;00m name, arg \u001b[39min\u001b[39;00m \u001b[39mzip\u001b[39m(kwonly_args[:extra_args],\n\u001b[1;32m     68\u001b[0m                                  args[\u001b[39m-\u001b[39mextra_args:])]\n",
      "File \u001b[0;32m~/anaconda3/envs/venv/lib/python3.8/site-packages/sklearn/utils/validation.py:720\u001b[0m, in \u001b[0;36mcheck_array\u001b[0;34m(array, accept_sparse, accept_large_sparse, dtype, order, copy, force_all_finite, ensure_2d, allow_nd, ensure_min_samples, ensure_min_features, estimator)\u001b[0m\n\u001b[1;32m    716\u001b[0m         \u001b[39mraise\u001b[39;00m \u001b[39mValueError\u001b[39;00m(\u001b[39m\"\u001b[39m\u001b[39mFound array with dim \u001b[39m\u001b[39m%d\u001b[39;00m\u001b[39m. \u001b[39m\u001b[39m%s\u001b[39;00m\u001b[39m expected <= 2.\u001b[39m\u001b[39m\"\u001b[39m\n\u001b[1;32m    717\u001b[0m                          \u001b[39m%\u001b[39m (array\u001b[39m.\u001b[39mndim, estimator_name))\n\u001b[1;32m    719\u001b[0m     \u001b[39mif\u001b[39;00m force_all_finite:\n\u001b[0;32m--> 720\u001b[0m         _assert_all_finite(array,\n\u001b[1;32m    721\u001b[0m                            allow_nan\u001b[39m=\u001b[39;49mforce_all_finite \u001b[39m==\u001b[39;49m \u001b[39m'\u001b[39;49m\u001b[39mallow-nan\u001b[39;49m\u001b[39m'\u001b[39;49m)\n\u001b[1;32m    723\u001b[0m \u001b[39mif\u001b[39;00m ensure_min_samples \u001b[39m>\u001b[39m \u001b[39m0\u001b[39m:\n\u001b[1;32m    724\u001b[0m     n_samples \u001b[39m=\u001b[39m _num_samples(array)\n",
      "File \u001b[0;32m~/anaconda3/envs/venv/lib/python3.8/site-packages/sklearn/utils/validation.py:103\u001b[0m, in \u001b[0;36m_assert_all_finite\u001b[0;34m(X, allow_nan, msg_dtype)\u001b[0m\n\u001b[1;32m    100\u001b[0m     \u001b[39mif\u001b[39;00m (allow_nan \u001b[39mand\u001b[39;00m np\u001b[39m.\u001b[39misinf(X)\u001b[39m.\u001b[39many() \u001b[39mor\u001b[39;00m\n\u001b[1;32m    101\u001b[0m             \u001b[39mnot\u001b[39;00m allow_nan \u001b[39mand\u001b[39;00m \u001b[39mnot\u001b[39;00m np\u001b[39m.\u001b[39misfinite(X)\u001b[39m.\u001b[39mall()):\n\u001b[1;32m    102\u001b[0m         type_err \u001b[39m=\u001b[39m \u001b[39m'\u001b[39m\u001b[39minfinity\u001b[39m\u001b[39m'\u001b[39m \u001b[39mif\u001b[39;00m allow_nan \u001b[39melse\u001b[39;00m \u001b[39m'\u001b[39m\u001b[39mNaN, infinity\u001b[39m\u001b[39m'\u001b[39m\n\u001b[0;32m--> 103\u001b[0m         \u001b[39mraise\u001b[39;00m \u001b[39mValueError\u001b[39;00m(\n\u001b[1;32m    104\u001b[0m                 msg_err\u001b[39m.\u001b[39mformat\n\u001b[1;32m    105\u001b[0m                 (type_err,\n\u001b[1;32m    106\u001b[0m                  msg_dtype \u001b[39mif\u001b[39;00m msg_dtype \u001b[39mis\u001b[39;00m \u001b[39mnot\u001b[39;00m \u001b[39mNone\u001b[39;00m \u001b[39melse\u001b[39;00m X\u001b[39m.\u001b[39mdtype)\n\u001b[1;32m    107\u001b[0m         )\n\u001b[1;32m    108\u001b[0m \u001b[39m# for object dtype data, we only check for NaNs (GH-13254)\u001b[39;00m\n\u001b[1;32m    109\u001b[0m \u001b[39melif\u001b[39;00m X\u001b[39m.\u001b[39mdtype \u001b[39m==\u001b[39m np\u001b[39m.\u001b[39mdtype(\u001b[39m'\u001b[39m\u001b[39mobject\u001b[39m\u001b[39m'\u001b[39m) \u001b[39mand\u001b[39;00m \u001b[39mnot\u001b[39;00m allow_nan:\n",
      "\u001b[0;31mValueError\u001b[0m: Input contains NaN, infinity or a value too large for dtype('float32')."
     ]
    }
   ],
   "source": [
    "classifier_all = RandomForestClassifier(n_estimators=100)\n",
    "classifier_all.fit(X_train_all, y_train_all)"
   ]
  },
  {
   "cell_type": "code",
   "execution_count": null,
   "metadata": {},
   "outputs": [],
   "source": [
    "classifier_feature= RandomForestClassifier(n_estimators=100)\n",
    "classifier_feature.fit(X_train_feat, y_train_all)"
   ]
  },
  {
   "cell_type": "code",
   "execution_count": null,
   "metadata": {},
   "outputs": [],
   "source": [
    "pred_of_all_features = classifier_all.predict(X_test_all)\n",
    "pred_of_all_features"
   ]
  },
  {
   "cell_type": "code",
   "execution_count": null,
   "metadata": {},
   "outputs": [],
   "source": []
  },
  {
   "cell_type": "code",
   "execution_count": null,
   "metadata": {},
   "outputs": [],
   "source": []
  }
 ],
 "metadata": {
  "kernelspec": {
   "display_name": "Python 3.8.13 ('venv')",
   "language": "python",
   "name": "python3"
  },
  "language_info": {
   "codemirror_mode": {
    "name": "ipython",
    "version": 3
   },
   "file_extension": ".py",
   "mimetype": "text/x-python",
   "name": "python",
   "nbconvert_exporter": "python",
   "pygments_lexer": "ipython3",
   "version": "3.8.13"
  },
  "orig_nbformat": 4,
  "vscode": {
   "interpreter": {
    "hash": "beb26789953ddcd0d4fafde83f340bee23aa0884c59e24dddb82f7574d20d741"
   }
  }
 },
 "nbformat": 4,
 "nbformat_minor": 2
}
